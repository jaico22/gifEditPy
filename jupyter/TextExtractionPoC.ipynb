{
 "cells": [
  {
   "cell_type": "code",
   "execution_count": 17,
   "metadata": {},
   "outputs": [],
   "source": [
    "import cv2\n",
    "import os\n",
    "import pytesseract\n",
    "import imutils\n",
    "import numpy as np\n",
    "import sys\n",
    "sys.path.insert(0,'../')\n",
    "import src\n",
    "from src.obj.TextExtractor import TextExtractor\n",
    "from src.obj.TextMatcher import TextMatcher\n",
    "import matplotlib.pyplot as plt\n",
    "import matplotlib.patches as patches\n",
    "import importlib "
   ]
  },
  {
   "cell_type": "code",
   "execution_count": 26,
   "metadata": {},
   "outputs": [],
   "source": [
    "importlib.reload(src.obj.TextExtractor)\n",
    "textMatcher = TextMatcher('Good')\n",
    "match = textMatcher.findInPhrase('Good Dog')"
   ]
  },
  {
   "cell_type": "code",
   "execution_count": 27,
   "metadata": {},
   "outputs": [
    {
     "name": "stdout",
     "output_type": "stream",
     "text": [
      "Good found at 0.5% to 0.375% of input phrase\n",
      "2\n",
      "['dfgood', 'dog', 'good']\n"
     ]
    }
   ],
   "source": [
    "print(match)\n",
    "str1 = \"dfgood dog good\"\n",
    "str2 = \"good\"\n",
    "print(str1.find(str2))\n",
    "print(str1.split(' '))"
   ]
  },
  {
   "cell_type": "code",
   "execution_count": 3,
   "metadata": {},
   "outputs": [
    {
     "name": "stdout",
     "output_type": "stream",
     "text": [
      "VT\n",
      "LATED QUICKLY\n",
      "eA\n",
      "WELL\n",
      "LATED OUICKLY\n",
      "ESCALATED OUICKL\n",
      "ee)\n",
      "Tall\n",
      "ea\n",
      "SSH TAM\n",
      "ESCALATED OUICKL\n",
      "THAT ESCALATED OW\n",
      "(Wal\n",
      "ESCALATED OUICKL\n",
      "LATED QUICKLY\n",
      "VSG)\n",
      "HAT ESCALATED C\n",
      "TTS\n",
      "Neh\n",
      "FSCALATED QUICKLY\n",
      "HVT\n",
      "HAT ESCALATED OU\n",
      "esse\n",
      "eH\n",
      "eH)\n",
      "Py a\"\n",
      "eM\n",
      "VV\n",
      "yen]\n",
      "Chey\n",
      "IT ESCALATED ONC\n",
      "VA\n",
      "VIA hG\n",
      "ALATED QUICKLY\n",
      "Gye\n",
      "esaH ila’\n",
      "LATED QUICKLY\n",
      "ayaa n)\n",
      "eH TA\n",
      "eV SSH\n",
      "en)\n",
      "TAY\n",
      "TESST\n",
      "SCALATED OUICKLY\n",
      "STITT TAN\n",
      "ESCALATED OUICKL\n",
      "maQH VE\n",
      "eae H!\n",
      "VassHy lyf\n",
      "YO TTT TH Ch\n",
      "(Wilh\n",
      "BasHy init’\n",
      "YVAN\n",
      "VB\n",
      "ESCALATED OUICKL\n",
      "ae\n",
      "ESCALATED OUIC\n",
      "WELL\n",
      "Vesgel hod]\n",
      "AQHA\n"
     ]
    }
   ],
   "source": [
    "testImageFile = '../testData/thatEscalatedQuickly.jpg'\n",
    "model = '../lib/EASTModel.pb'\n",
    "extractor = TextExtractor(testImageFile)\n",
    "extractor.ExtractText(0.99)"
   ]
  },
  {
   "cell_type": "code",
   "execution_count": null,
   "metadata": {},
   "outputs": [],
   "source": []
  }
 ],
 "metadata": {
  "kernelspec": {
   "display_name": "Python 3",
   "language": "python",
   "name": "python3"
  },
  "language_info": {
   "codemirror_mode": {
    "name": "ipython",
    "version": 3
   },
   "file_extension": ".py",
   "mimetype": "text/x-python",
   "name": "python",
   "nbconvert_exporter": "python",
   "pygments_lexer": "ipython3",
   "version": "3.7.0"
  }
 },
 "nbformat": 4,
 "nbformat_minor": 2
}
